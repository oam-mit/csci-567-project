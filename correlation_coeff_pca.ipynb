{
 "cells": [
  {
   "cell_type": "code",
   "execution_count": 23,
   "metadata": {},
   "outputs": [
    {
     "name": "stdout",
     "output_type": "stream",
     "text": [
      "The autoreload extension is already loaded. To reload it, use:\n",
      "  %reload_ext autoreload\n"
     ]
    }
   ],
   "source": [
    "%load_ext autoreload\n",
    "%autoreload 2"
   ]
  },
  {
   "cell_type": "code",
   "execution_count": 24,
   "metadata": {},
   "outputs": [],
   "source": [
    "from utils import HousePriceData, TestingData\n",
    "from sklearn.preprocessing import StandardScaler\n",
    "from sklearn.decomposition import PCA\n",
    "from sklearn.pipeline import Pipeline\n",
    "from tqdm import tqdm"
   ]
  },
  {
   "cell_type": "code",
   "execution_count": 25,
   "metadata": {},
   "outputs": [],
   "source": [
    "pca_list = list(range(1,68))"
   ]
  },
  {
   "cell_type": "code",
   "execution_count": 29,
   "metadata": {},
   "outputs": [],
   "source": [
    "replace_by = [\n",
    "    \"Z\", \n",
    "    \"NA\",\n",
    "    \"None\",          #Can be changed to NonewNA\n",
    "    \"Z\",             #Can be changed to ZwM\n",
    "    \"NA\",\n",
    "    \"NA\",\n",
    "    \"NA\",            #Includes option \"No\" but mean different thing\n",
    "    \"NA\",\n",
    "    \"NA\",\n",
    "    \"SBrkr\",            #Electrical, only 1 NA\n",
    "    \"NA\",\n",
    "    \"NA\",\n",
    "    \"Z\",             #Can be changed to Z\n",
    "    \"NA\",\n",
    "    \"NA\",\n",
    "    \"NA\",\n",
    "    \"NA\",\n",
    "    \"NA\",\n",
    "    \"NA\"\n",
    "    ]\n",
    "\n"
   ]
  },
  {
   "cell_type": "code",
   "execution_count": 30,
   "metadata": {},
   "outputs": [],
   "source": [
    "from sklearn.linear_model import LinearRegression\n",
    "from sklearn.svm import SVR\n",
    "from sklearn.preprocessing import StandardScaler"
   ]
  },
  {
   "cell_type": "code",
   "execution_count": 36,
   "metadata": {},
   "outputs": [
    {
     "name": "stderr",
     "output_type": "stream",
     "text": [
      "  0%|          | 0/67 [00:00<?, ?it/s]"
     ]
    },
    {
     "name": "stderr",
     "output_type": "stream",
     "text": [
      "100%|██████████| 67/67 [01:44<00:00,  1.56s/it]\n"
     ]
    }
   ],
   "source": [
    "import warnings\n",
    "warnings.filterwarnings('ignore')\n",
    "\n",
    "train_score = []\n",
    "test_score = []\n",
    "correlation_thresholds = [0.01, 0.02, 0.03, 0.05, 0.1, 0.15, 0.20, 0.25, 0.3, 0.35, 0.4, 0.45]\n",
    "for pca in tqdm(pca_list):\n",
    "    x_scaler = Pipeline([\n",
    "    ('scaler', StandardScaler()),\n",
    "    ('pca', PCA(n_components=pca)),\n",
    "    ])\n",
    "    output_scaler = StandardScaler()\n",
    "\n",
    "    data = HousePriceData(\"dataset/train.csv\", x_scaler, output_scaler)\n",
    "    null_cols = data.check_na(print_null_cols=False)\n",
    "    data.clean_data(null_cols, replace_by)\n",
    "\n",
    "    mapping = data.convert_to_categorical()\n",
    "\n",
    "    data.get_dataframe()\n",
    "\n",
    "    # output_column = 'SalePrice'\n",
    "\n",
    "    # # Calculate correlation coefficients between all columns and the output column\n",
    "    # correlations = data.get_dataframe().corr(method=\"pearson\")[output_column]\n",
    "\n",
    "    # # Filter columns based on the specified range\n",
    "    # selected_columns = correlations[(correlations <= 0.25) & (correlations >= -0.25)].index.tolist()\n",
    "    # for column in selected_columns:\n",
    "    #     data.drop_column(column)\n",
    "    \n",
    "    data.fit_preprocessors()\n",
    "\n",
    "    X_train, X_test, y_train, y_test = data.get_train_test_split()\n",
    "    classifier = SVR()\n",
    "\n",
    "    classifier.fit(X_train, y_train)\n",
    "    train_score.append(classifier.score(X_train, y_train))\n",
    "    test_score.append(classifier.score(X_test, y_test))\n",
    "\n",
    "\n"
   ]
  },
  {
   "cell_type": "code",
   "execution_count": 37,
   "metadata": {},
   "outputs": [],
   "source": [
    "import matplotlib.pyplot as plt"
   ]
  },
  {
   "cell_type": "code",
   "execution_count": 38,
   "metadata": {},
   "outputs": [
    {
     "data": {
      "text/plain": [
       "[0.8280049194580056,\n",
       " 0.8518014908144166,\n",
       " 0.8575920198859894,\n",
       " 0.8661137865665873,\n",
       " 0.8676862164644785,\n",
       " 0.8723104603140188,\n",
       " 0.8702275075599435,\n",
       " 0.8726163332321548,\n",
       " 0.873022944228135,\n",
       " 0.8749015442785569,\n",
       " 0.8772077502459256,\n",
       " 0.8804704953489201,\n",
       " 0.8863482117203236,\n",
       " 0.8878101214116804,\n",
       " 0.8905274311855835,\n",
       " 0.8893467338512497,\n",
       " 0.8893258153713072,\n",
       " 0.8902673758902542,\n",
       " 0.8937994087091949,\n",
       " 0.8918669235224546,\n",
       " 0.8954628792809883,\n",
       " 0.896648122649285,\n",
       " 0.8969458131429745,\n",
       " 0.8967912143171157,\n",
       " 0.8989923872508621,\n",
       " 0.898787001628792,\n",
       " 0.8998364938011173,\n",
       " 0.8995852358200518,\n",
       " 0.9010315957763672,\n",
       " 0.900624205530772,\n",
       " 0.9016651255655542,\n",
       " 0.901498399048137,\n",
       " 0.9028994137677941,\n",
       " 0.9026050106461858,\n",
       " 0.9027694972757023,\n",
       " 0.9041410000588285,\n",
       " 0.9045040900004006,\n",
       " 0.9045415083816525,\n",
       " 0.9057219564898332,\n",
       " 0.9060464432459152,\n",
       " 0.906571346131104,\n",
       " 0.9069154851196405,\n",
       " 0.9073556427018428,\n",
       " 0.9071108730005732,\n",
       " 0.906992539073227,\n",
       " 0.9072963477089657,\n",
       " 0.9074050659585028,\n",
       " 0.9076056598456329,\n",
       " 0.9076509667593234,\n",
       " 0.9075649882954817,\n",
       " 0.9077633167175096,\n",
       " 0.9083031020829683,\n",
       " 0.9088220844079008,\n",
       " 0.9090327186696469,\n",
       " 0.9091019697153349,\n",
       " 0.9092085519263089,\n",
       " 0.9097568711311093,\n",
       " 0.9099396841670043,\n",
       " 0.9113434711686217,\n",
       " 0.9119819299805473,\n",
       " 0.9135654064794088,\n",
       " 0.9138399558795797,\n",
       " 0.9140311268909822,\n",
       " 0.9143131205983865,\n",
       " 0.9140799731404753,\n",
       " 0.9143793659307926,\n",
       " 0.914705596645993]"
      ]
     },
     "execution_count": 38,
     "metadata": {},
     "output_type": "execute_result"
    }
   ],
   "source": [
    "train_score"
   ]
  },
  {
   "cell_type": "code",
   "execution_count": 39,
   "metadata": {},
   "outputs": [
    {
     "data": {
      "image/png": "[encoded data removed]",
      "text/plain": [
       "<Figure size 640x480 with 1 Axes>"
      ]
     },
     "metadata": {},
     "output_type": "display_data"
    }
   ],
   "source": [
    "plt.plot(pca_list, train_score, label=\"Train\")\n",
    "plt.plot(pca_list, test_score, label = \"Validation set\")\n",
    "plt.ylabel(\"R2 score\")\n",
    "plt.xlabel(\"Number of Principal Components\")\n",
    "plt.legend()\n",
    "plt.show()"
   ]
  },
  {
   "cell_type": "code",
   "execution_count": null,
   "metadata": {},
   "outputs": [],
   "source": []
  }
 ],
 "metadata": {
  "kernelspec": {
   "display_name": "env",
   "language": "python",
   "name": "python3"
  },
  "language_info": {
   "codemirror_mode": {
    "name": "ipython",
    "version": 3
   },
   "file_extension": ".py",
   "mimetype": "text/x-python",
   "name": "python",
   "nbconvert_exporter": "python",
   "pygments_lexer": "ipython3",
   "version": "3.10.7"
  }
 },
 "nbformat": 4,
 "nbformat_minor": 2
}
