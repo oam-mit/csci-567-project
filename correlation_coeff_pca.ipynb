{
 "cells": [
  {
   "cell_type": "code",
   "execution_count": 93,
   "metadata": {},
   "outputs": [
    {
     "name": "stdout",
     "output_type": "stream",
     "text": [
      "The autoreload extension is already loaded. To reload it, use:\n",
      "  %reload_ext autoreload\n"
     ]
    }
   ],
   "source": [
    "%load_ext autoreload\n",
    "%autoreload 2"
   ]
  },
  {
   "cell_type": "code",
   "execution_count": 94,
   "metadata": {},
   "outputs": [],
   "source": [
    "from utils import HousePriceData, TestingData\n",
    "from sklearn.preprocessing import StandardScaler\n",
    "from sklearn.decomposition import PCA\n",
    "from sklearn.pipeline import Pipeline\n",
    "from tqdm import tqdm"
   ]
  },
  {
   "cell_type": "code",
   "execution_count": 95,
   "metadata": {},
   "outputs": [],
   "source": [
    "pca_list = list(range(1,68))"
   ]
  },
  {
   "cell_type": "code",
   "execution_count": 96,
   "metadata": {},
   "outputs": [],
   "source": [
    "replace_by = [\n",
    "    \"Z\", \n",
    "    \"NA\",\n",
    "    \"None\",          #Can be changed to NonewNA\n",
    "    \"Z\",             #Can be changed to ZwM\n",
    "    \"NA\",\n",
    "    \"NA\",\n",
    "    \"NA\",            #Includes option \"No\" but mean different thing\n",
    "    \"NA\",\n",
    "    \"NA\",\n",
    "    \"SBrkr\",            #Electrical, only 1 NA\n",
    "    \"NA\",\n",
    "    \"NA\",\n",
    "    \"Z\",             #Can be changed to Z\n",
    "    \"NA\",\n",
    "    \"NA\",\n",
    "    \"NA\",\n",
    "    \"NA\",\n",
    "    \"NA\",\n",
    "    \"NA\"\n",
    "    ]\n",
    "\n"
   ]
  },
  {
   "cell_type": "code",
   "execution_count": 97,
   "metadata": {},
   "outputs": [],
   "source": [
    "from sklearn.linear_model import LinearRegression\n",
    "from sklearn.svm import SVR\n",
    "from sklearn.preprocessing import StandardScaler"
   ]
  },
  {
   "cell_type": "code",
   "execution_count": 98,
   "metadata": {},
   "outputs": [
    {
     "name": "stderr",
     "output_type": "stream",
     "text": [
      "100%|██████████| 12/12 [00:18<00:00,  1.56s/it]\n"
     ]
    }
   ],
   "source": [
    "import warnings\n",
    "warnings.filterwarnings('ignore')\n",
    "\n",
    "train_score = []\n",
    "test_score = []\n",
    "correlation_thresholds = [0.01, 0.02, 0.03, 0.05, 0.1, 0.15, 0.20, 0.25, 0.3, 0.35, 0.4, 0.45]\n",
    "for corr in tqdm(correlation_thresholds):\n",
    "    x_scaler = Pipeline([\n",
    "    ('scaler', StandardScaler()),\n",
    "    ('pca', PCA(n_components=8)),\n",
    "    ])\n",
    "    output_scaler = StandardScaler()\n",
    "\n",
    "    data = HousePriceData(\"dataset/train.csv\", x_scaler, output_scaler)\n",
    "    null_cols = data.check_na(print_null_cols=False)\n",
    "    data.clean_data(null_cols, replace_by)\n",
    "\n",
    "    mapping = data.convert_to_categorical()\n",
    "\n",
    "    data.get_dataframe()\n",
    "\n",
    "    output_column = 'SalePrice'\n",
    "\n",
    "    # Calculate correlation coefficients between all columns and the output column\n",
    "    correlations = data.get_dataframe().corr(method=\"pearson\")[output_column]\n",
    "\n",
    "    # Filter columns based on the specified range\n",
    "    selected_columns = correlations[(correlations <= corr) & (correlations >= -corr)].index.tolist()\n",
    "    for column in selected_columns:\n",
    "        data.drop_column(column)\n",
    "    \n",
    "    data.fit_preprocessors()\n",
    "\n",
    "    X_train, X_test, y_train, y_test = data.get_train_test_split()\n",
    "    classifier = SVR()\n",
    "\n",
    "    classifier.fit(X_train, y_train)\n",
    "    train_score.append(classifier.score(X_train, y_train))\n",
    "    test_score.append(classifier.score(X_test, y_test))\n",
    "\n",
    "\n"
   ]
  },
  {
   "cell_type": "code",
   "execution_count": 99,
   "metadata": {},
   "outputs": [],
   "source": [
    "import matplotlib.pyplot as plt"
   ]
  },
  {
   "cell_type": "code",
   "execution_count": 100,
   "metadata": {},
   "outputs": [
    {
     "data": {
      "text/plain": [
       "[0.8726208695923013,\n",
       " 0.8740856003160313,\n",
       " 0.8753619785264073,\n",
       " 0.8742873388417787,\n",
       " 0.8799561083576248,\n",
       " 0.8929253431961661,\n",
       " 0.8963679252369703,\n",
       " 0.9011120147788396,\n",
       " 0.8873450726841479,\n",
       " 0.8870801900506967,\n",
       " 0.8837696814940429,\n",
       " 0.8811033855414622]"
      ]
     },
     "execution_count": 100,
     "metadata": {},
     "output_type": "execute_result"
    }
   ],
   "source": [
    "train_score"
   ]
  },
  {
   "cell_type": "code",
   "execution_count": 101,
   "metadata": {},
   "outputs": [
    {
     "data": {
      "image/png": "[encoded data removed]",
      "text/plain": [
       "<Figure size 640x480 with 1 Axes>"
      ]
     },
     "metadata": {},
     "output_type": "display_data"
    }
   ],
   "source": [
    "plt.plot(correlation_thresholds, train_score, label=\"Train\")\n",
    "plt.plot(correlation_thresholds, test_score, label = \"Test\")\n",
    "plt.legend()\n",
    "plt.show()"
   ]
  },
  {
   "cell_type": "code",
   "execution_count": null,
   "metadata": {},
   "outputs": [],
   "source": []
  }
 ],
 "metadata": {
  "kernelspec": {
   "display_name": "env",
   "language": "python",
   "name": "python3"
  },
  "language_info": {
   "codemirror_mode": {
    "name": "ipython",
    "version": 3
   },
   "file_extension": ".py",
   "mimetype": "text/x-python",
   "name": "python",
   "nbconvert_exporter": "python",
   "pygments_lexer": "ipython3",
   "version": "3.10.7"
  }
 },
 "nbformat": 4,
 "nbformat_minor": 2
}
